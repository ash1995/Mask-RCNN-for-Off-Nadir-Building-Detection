{
 "cells": [
  {
   "cell_type": "code",
   "execution_count": 1,
   "metadata": {},
   "outputs": [
    {
     "name": "stderr",
     "output_type": "stream",
     "text": [
      "/home/ashwin/miniconda3/envs/dlenv/lib/python3.6/site-packages/h5py/__init__.py:36: FutureWarning: Conversion of the second argument of issubdtype from `float` to `np.floating` is deprecated. In future, it will be treated as `np.float64 == np.dtype(float).type`.\n",
      "  from ._conv import register_converters as _register_converters\n"
     ]
    }
   ],
   "source": [
    "from tensorflow.python.platform import gfile\n",
    "import tensorflow as tf\n",
    "from tensorflow.contrib import tensorrt as trt"
   ]
  },
  {
   "cell_type": "code",
   "execution_count": 2,
   "metadata": {},
   "outputs": [
    {
     "name": "stdout",
     "output_type": "stream",
     "text": [
      "INFO:tensorflow:Running against TensorRT version 0.0.0\n"
     ]
    }
   ],
   "source": [
    "graph_filename ='mrcnn_model.pb'\n",
    "\n",
    "f = gfile.GFile(graph_filename, 'rb')\n",
    "\n",
    "# define graph def object\n",
    "frozen_graph_def = tf.GraphDef()\n",
    "\n",
    "# store frozen graph from pb file\n",
    "frozen_graph_def.ParseFromString(f.read())\n",
    "\n",
    "# Parameters:\n",
    "output_node_names = ['output_detections', \n",
    "                     'output_mrcnn_class', \n",
    "                     'output_mrcnn_bbox', \n",
    "                     'output_mrcnn_mask', \n",
    "                     'output_rois', \n",
    "                     'output_rpn_class', \n",
    "                     'output_rpn_bbox']\n",
    "workspace_size = 1 << 30\n",
    "precision = \"FP32\"\n",
    "batch_size = 1\n",
    "\n",
    "trt_graph = trt.create_inference_graph(\n",
    "                frozen_graph_def,\n",
    "                output_node_names,\n",
    "                max_batch_size=batch_size,\n",
    "                max_workspace_size_bytes=workspace_size,\n",
    "                precision_mode=precision)\n",
    "\n",
    "# write modified graph def to disk\n",
    "graph_filename_converted = 'mrcnn_model_tensorrt.pb'\n",
    "\n",
    "with gfile.GFile(graph_filename_converted, 'wb') as s:\n",
    "    s.write(trt_graph.SerializeToString())"
   ]
  }
 ],
 "metadata": {
  "kernelspec": {
   "display_name": "Python 3",
   "language": "python",
   "name": "python3"
  },
  "language_info": {
   "codemirror_mode": {
    "name": "ipython",
    "version": 3
   },
   "file_extension": ".py",
   "mimetype": "text/x-python",
   "name": "python",
   "nbconvert_exporter": "python",
   "pygments_lexer": "ipython3",
   "version": "3.6.6"
  }
 },
 "nbformat": 4,
 "nbformat_minor": 2
}
